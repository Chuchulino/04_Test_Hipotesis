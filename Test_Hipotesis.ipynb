{
 "cells": [
  {
   "cell_type": "markdown",
   "metadata": {},
   "source": [
    "# Test de Hipótesis"
   ]
  },
  {
   "cell_type": "markdown",
   "metadata": {},
   "source": [
    "## Hipótesis estadísticas"
   ]
  },
  {
   "cell_type": "markdown",
   "metadata": {},
   "source": [
    "Una hipótesis estadística es una afirmación que se hace sobre una o más características de una población (decir que la vida media de una batería son x horas, que un tratamiento reduce el dolor, que un determinado producto hace adelgazar, entre otros). Un test o contraste de hipótesis es algún procedimiento para aceptar o rebatir dicha hipótesis o afirmación.\n",
    "\n",
    "La prueba de hipótesis se refiere a la comparación entre una hipótesis nula $H_{0}$ y una hipótesis alternativa $H_{1}$.\n",
    "\n",
    "Queremos asegurarnos de que, como $H_{0}$ es correcto, la probabilidad de aceptar $H_{1}$ se reduce, normalmente fijada en $0,05$ o $0,01$. Lo llamamos valor $p$ (nivel de significación).\n",
    "\n",
    "No rechazamos $H_{0}$ cuando $p>0.05$. Rechazamos $H_{0}$ cuando $p\\geq0.05$. Mira que no rechazarlo no significa que $H_{0}$ tenga toda la razón, simplemente no tenemos argumentos para rechazarlo.\n"
   ]
  },
  {
   "cell_type": "markdown",
   "metadata": {},
   "source": [
    "### Test de significación (NHST)"
   ]
  },
  {
   "cell_type": "markdown",
   "metadata": {},
   "source": [
    "\n",
    "Una prueba de significación consta de una hipótesis $H_{0}$ (hipótesis nula) que consiste en establecer que el valor de un parámetro (llamémosle $θ$) es un número concreto (llamémosle $θ_{0}$):\n",
    "$H_{0}=θ_{0}$\n",
    "\n",
    "La hipótesis de partida del investigador fue bautizada con este nombre por Fisher porque significaba que no había cambio alguno con el uso de un nuevo fertilizante, que su efecto era nulo. Es decir, para poder demostrar que un nuevo fertilizante es efectivo, supondremos que no lo es, que tiene efecto nulo, y trataremos de falsar esta afirmación. El acrónimo **NHST** viene de **“Null hypothesis signification testing”**.\n",
    "\n",
    "Entonces, una vez que se delimita la hipótesis nula que se desea poner a prueba, la forma general de proceder es elegir una muestra de esa población, y ver si los resultados de esa muestra son coherentes con la afirmación que se está realizando. Básicamente, que la evidencia que nos proporcione la muestra sea lo suficientemente fuerte para poder tomar una decisión.\n",
    "\n",
    "Para comprobar la coherencia de los resultados, o la fuerza de la evidencia, se tratará de ver la diferencia entre lo observado en la muestra y lo que dice la hipótesis nula. Para ello se elige el llamado estadístico $T$ (estadístico pivote) del test y se calcula su valor sobre los datos de una muestra observada $(x_1,x_2,…,x_n)$, lo que se denota como $T(x_1,x_2,…,x_n)$. Dado que la distribución en el muestreo del estadístico $T$ ha de ser conocida, se determina la probabilidad de que el estadístico tome un valor igual o más extremo que el valor observado $(x_1,x_2,…,x_n)$ bajo la suposición de que la hipótesis nula es cierta.\n",
    "\n",
    "Se escribe simbólicamente\n",
    "$P(\\frac{T\\geq T(x_1,x_2,…,x_n)}{H_{0}})$, y este número se denomina $P$ valor.\n",
    "\n"
   ]
  },
  {
   "cell_type": "markdown",
   "metadata": {},
   "source": [
    "Entonces, si el  $P -valor$ es excesivamente pequeño (en general, por debajo de $0,05$), el resultado del test se dice que es significativo, porque permite rechazar la hipótesis nula H_0. En otro caso, el resultado del test no es significativo y no puede rechazarse esta hipótesis.\n",
    "\n",
    "\n",
    "![](\"C:\\Users\\jdiaz\\Desktop\\Imagenes Jupyter\" )\n",
    " \n",
    "De acuerdo con esta lógica se entiende que, con un nivel de significación del 5%, en promedio cinco de cada 100 veces que la hipótesis nula sea cierta se rechazará por azar. Es decir, 5 de cada 100 veces que rechazamos la hipótesis nos estaremos equivocando, pues se asume que es cierta y la prueba no demuestra ni su falsedad ni su certeza.\n"
   ]
  },
  {
   "cell_type": "markdown",
   "metadata": {},
   "source": [
    "### La teoría de Neyman-Pearson"
   ]
  },
  {
   "cell_type": "markdown",
   "metadata": {},
   "source": [
    "Buscando fortalecer las bases lógicas de los test de significación de Fisher, Egon Pearson (1895-1980) (hijo de Karl Pearson) y Jerzy Neyman (1894-1981) idearon varias mejoras. El eje principal de su investigación era el siguiente interrogante: ¿qué hacer si se obtiene un resultado significativo en un test estadístico? Se rechaza la hipótesis nula, pero los test de significación no arrojaban ninguna pista sobre qué hipótesis elegir a cambio.\n",
    "La teoría de Neyman-Pearson utilizó el NHST de Fisher y el $P-valor$ como parte de un proceso formal de decisión. Así, plantearon una elección real entre dos hipótesis rivales. El contraste de hipótesis quedó convertido en un método para discernir entre dos hipótesis: la hipótesis nula y la hipótesis alternativa $H_{1}$.\n",
    "Todo contraste de hipótesis conduce pues, a aceptar o rechazar la hipótesis nula planteada (aceptando, en este último caso, la hipótesis alternativa). Ahora bien, pueden darse las siguientes situaciones.\n",
    "\n",
    "- Se acepta la hipótesis nula siendo verdadera. Esta es una decisión correcta.\n",
    "- Se rechaza la hipótesis nula siendo falsa. Esta es otra situación correcta.\n",
    "- Se rechaza la hipótesis nula siendo verdadera. Estamos cometiendo un error, que se llama error de tipo uno. La probabilidad de cometer este error viene dada por el nivel de significación α, fijado de antemano.\n",
    "- Se acepta la hipótesis nula siendo falsa. También cometemos un error, que se llama error de tipo II. La probabilidad de cometer este error se representa por $β$, y la probabilidad $1-β$ se llama potencia del contraste, que cuantifica la probabilidad de rechazar la hipótesis nula cuando es falsa.\n"
   ]
  },
  {
   "cell_type": "markdown",
   "metadata": {},
   "source": [
    "![](\"C:\\Users\\jdiaz\\Desktop\\Imagenes Jupyter\" )\n",
    "\n"
   ]
  },
  {
   "cell_type": "markdown",
   "metadata": {},
   "source": [
    "Si tenemos una hipótesis nula: $H_{0}$: un tratamiento nuevo no es efectivo, frente a $H_{1}$: el tratamiento sí es efectivo siempre es posible construir más de un test de hipótesis para contrastar la hipótesis nula frente a la alternativa.\n",
    "Por otro lado, si tiramos una moneda al aire. Si sale cara, aceptamos $H_{0}$. Si sale cruz, rechazamos $H_{0}$.\n",
    "La probabilidad de cometer un error de $tipo I$ es $0.5$, igual que la probabilidad de cometer un error de $tipo II$.\n",
    "\n",
    "Si en vez de tirar una moneda tiramos un dado y decidimos mediante la regla: **“aceptamos la hipótesis nula si sale un 1, la rechazamos si sale cualquier otro número”**, la probabilidad de error de tipo I es 5/6 y la de error de tipo II es 1/6.\n",
    "Obviamente ambos test son bastante absurdos, pero nos sirve para ver que siempre existen test con sus correspondientes errores."
   ]
  },
  {
   "cell_type": "markdown",
   "metadata": {},
   "source": [
    "### Importamos librerias"
   ]
  },
  {
   "cell_type": "code",
   "execution_count": 8,
   "metadata": {},
   "outputs": [],
   "source": [
    "import numpy as np\n",
    "import matplotlib.pyplot as plt\n",
    "import math\n",
    "import random\n",
    "import pandas as pd\n",
    "import scipy.stats as stat"
   ]
  },
  {
   "cell_type": "markdown",
   "metadata": {},
   "source": [
    "### Estudiemos un ejemplo paso a paso para entender el concepto"
   ]
  },
  {
   "cell_type": "markdown",
   "metadata": {},
   "source": [
    "En 30 lanzamientos sin truncamiento de una moneda (HONESTA), se espera que se produzcan 15 caras, con una desviación estándar de 2,73"
   ]
  },
  {
   "cell_type": "code",
   "execution_count": 9,
   "metadata": {},
   "outputs": [
    {
     "name": "stdout",
     "output_type": "stream",
     "text": [
      "15.0\n",
      "2.7386127875258306\n"
     ]
    }
   ],
   "source": [
    "from scipy.stats import binom\n",
    "lanzamientos = 30\n",
    "rv = binom(lanzamientos, 1/2)\n",
    "print(rv.mean())\n",
    "print(rv.std())"
   ]
  },
  {
   "cell_type": "markdown",
   "metadata": {},
   "source": [
    "Suponiendo ahora que se nos da una muestra con los 100 resultados (número de caras) de 30 lanzamientos, cuyo promedio fue de 11,76.\n",
    "\n",
    "Dado que el promedio fue más bajo de lo que se esperaría de una moneda HONESTA, ¿podemos decir que los resultados se obtuvieron con una moneda no honesta?"
   ]
  },
  {
   "cell_type": "code",
   "execution_count": 10,
   "metadata": {},
   "outputs": [
    {
     "name": "stdout",
     "output_type": "stream",
     "text": [
      "11.76\n"
     ]
    }
   ],
   "source": [
    "rv = binom(lanzamientos, 1/2.5)\n",
    "resultado = rv.rvs(size=100, random_state=1)\n",
    "print(np.mean(resultado))\n"
   ]
  },
  {
   "cell_type": "markdown",
   "metadata": {},
   "source": [
    "### La hipótesis nula y alternativa en el lanzamiento de una moneda 500 veces"
   ]
  },
  {
   "cell_type": "markdown",
   "metadata": {},
   "source": [
    "Para este ejemplo vamos a hacer un lanzamiento de una moneda HONESTA 500 veces, en principio por estadística básica podemos deducir que las veces que sale cara son iguales a las que sale cruz.\n",
    "Eso nos da base para definir una hipótesis nula (H0), la cual es que la moneda es realmente HONESTA y que la diferencia se debe a la mera casualidad.\n",
    "\n",
    "La hipótesis alternativa (H1) es que la moneda NO es HONESTA.\n",
    "\n",
    "Como ya hemos aprendido en el teorema del límite central, las muestras de una moneda HONESTA deberían tener una media de 250 y una desviación igual a la desviación de la población dividida por la raíz del tamaño de la muestra. Vea el cálculo:"
   ]
  },
  {
   "cell_type": "code",
   "execution_count": 24,
   "metadata": {},
   "outputs": [
    {
     "name": "stdout",
     "output_type": "stream",
     "text": [
      "250.09403999999998\n",
      "1.0734304255050717\n"
     ]
    },
    {
     "data": {
      "image/png": "[encoded data removed]",
      "text/plain": [
       "<Figure size 1008x432 with 1 Axes>"
      ]
     },
     "metadata": {
      "needs_background": "light"
     },
     "output_type": "display_data"
    }
   ],
   "source": [
    "muestras = 500\n",
    "rv_honesta = binom(muestras, 1/2)\n",
    "poblacion_honesta = rv_honesta.rvs(size=1000000, random_state=0)\n",
    "medias = np.zeros((muestras,1))\n",
    "np.random.seed(1)\n",
    "for i in range(0,muestras,1):\n",
    "    medias[i]=np.mean(poblacion_honesta[np.random.randint(0, len(poblacion_honesta),100)])\n",
    "\n",
    "print(medias.mean())\n",
    "print(medias.std())    \n",
    "\n",
    "fig, axs = plt.subplots(1, 1, figsize=(14,6))\n",
    "\n",
    "\n",
    "axs.hist(medias, density=True, facecolor='g', alpha=0.75, bins=50)\n",
    "axs.grid(True)\n",
    "axs.set_title('Distribución de la media')\n",
    "\n",
    "plt.show()"
   ]
  },
  {
   "cell_type": "markdown",
   "metadata": {},
   "source": [
    "Como era de esperar, la media de las muestras (250) corresponde a la media de la población y la desviación de las muestras es la de la población dividida por 100.\n",
    "\n",
    "Ahora, siendo la moneda honesta, ¿cuál es el error en %?"
   ]
  },
  {
   "cell_type": "code",
   "execution_count": 15,
   "metadata": {},
   "outputs": [],
   "source": [
    "rv_norm = stat.norm(loc=medias.mean(), scale=medias.std())"
   ]
  },
  {
   "cell_type": "code",
   "execution_count": 22,
   "metadata": {},
   "outputs": [
    {
     "name": "stdout",
     "output_type": "stream",
     "text": [
      "0.4650945263302283 %\n"
     ]
    }
   ],
   "source": [
    "print(rv_norm.cdf(250),\"%\")"
   ]
  },
  {
   "cell_type": "markdown",
   "metadata": {},
   "source": [
    "Según el resultado anterior, la probabilidad de que una moneda honesta produzca una muestra cuyo promedio sea menor de 250 es extremadamente pequeña.\n",
    "\n",
    "Si fijamos nuestro nivel de significación en el 5% (admitiendo un máximo de 5% de posibilidad de error), podemos afirmar que la moneda es HONESTA, es decir, podemos aceptar H0.\n",
    "\n"
   ]
  },
  {
   "cell_type": "markdown",
   "metadata": {},
   "source": [
    "### Análisis de una campaña de Marketing usando Test de Hipótesis"
   ]
  },
  {
   "cell_type": "markdown",
   "metadata": {},
   "source": [
    "Vamos a considerar el caso de contrastación de una hipótesis acerca de la proporción de elementos poblacionales que satisfacen una determinada característica, utilizando para ello una determinada muestra; es decir, queremos contrastar una hipótesis acerca del parámetro $p$ de una distribución Bernouilli. Supongamos que, antes de acometer una campaña publicitaria a nivel nacional, lo que representa un enorme gasto.\n",
    "\n",
    "Una empresa de cosmética ha realizado una campaña publicitaria acerca de una de sus colonias en una determinada ciudad, y quiere contrastar si dicha campaña ha sido efectiva, lo que le motivaría a implantarla a nivel nacional. Evidentemente, para que este análisis sea riguroso, debe cumplirse que la ciudad utilizada como muestra sea representativa, es decir, que no haya razones para pensar que la proporción de usuarios antes o después de la campaña vaya a ser distinta en la ciudad utilizada que en el resto del país.\n",
    "\n",
    "El departamento de marketing de la empresa realiza una encuesta tras la campaña de publicidad en dicha ciudad, entrevistando a 200 personas. El porcentaje de personas que consumían habitualmente su producto antes de la campaña publicitaria, que es conocido, era del 5% y la empresa decidirá que la campaña ha sido efectiva si el nuevo porcentaje es superior a un determinado umbral, por ejemplo, del 7%. Ahora bien, no conocemos la proporción de consumidores tras la campaña. Todo lo que hacemos es encuestar a 200 personas, y calcular una estimación de la nueva proporción de consumidores. \n",
    "\n",
    "Lo primero que hemos de hacer es escoger un estimador del parámetro objeto de contraste. Ya sabemos que la proporción muestral es un estimador insesgado de la proporción poblacional, por lo que parece razonable que utilicemos el porcentaje muestral. Imaginemos que 15 personas, un 7,5% de los encuestados, contesta afirmativamente, con lo que concluimos que la campaña ha sido un éxito. \n",
    "\n",
    "Ahora bien, proceder de este modo supone asignar a la información muestral una fiabilidad absoluta, que nos lleva a comparar la estimación en ella obtenida, con el umbral establecido del 7%. Sin embargo, la estimación es tan sólo una realización del estimador (la proporción muestral, en este caso), que ha sido de 7,5% en esta muestra, pero que habría sido diferente si tomásemos otra muestra distinta. Salvo que entrevistásemos a todos los potenciales consumidores de la ciudad, no podemos conocer el verdadero valor de la proporción tras la campaña publicitaria. \n",
    "\n",
    "Tratar adecuadamente estas variaciones muestrales es crucial, pues nada impide que tengamos una estimación como la mencionada, incluso si la proporción poblacional es, realmente, prácticamente la misma de antes de la campaña, lo que nos llevaría a incurrir en el enorme coste que representa efectuar la campaña publicitaria a nivel nacional, cuando ésta no es, en realidad, eficaz. \n",
    "\n",
    "Ello constituiría lo que denominamos un Error de tipo I , por rechazar la hipótesis nula de ausencia de cambio en la proporción de consumidores, cuando ésta es cierta, puesto que no ha habido variación relevante, aunque la información muestral nos hace creer que sí la ha habido. También podría suceder lo contrario, y obtener \"sólo\" 13 respuestas afirmativas, una proporción del 6,5%, lo que nos llevaría a no rechazar la hipótesis nula cuando, realmente, el consumo se ha extendido con respecto al existente antes de la campaña. Esto es lo que denominamos un Error de tipo II , consistente en no rechazar la hipótesis nula cuando ésta es\n",
    "falsa. \n",
    "\n",
    "Formalicemos un poco más el proceso: Queremos contrastar una hipótesis, denominada hipótesis nula , consistente en que la campaña publicitaria no ha tenido efecto, es decir, que el porcentaje de consumidores no es significativamente superior al de antes de la misma. Representamos esta hipótesis nula mediante: $H_{0}$ : $p = 0,05$. Esta hipótesis nula se dice simple , por contener sólo un valor numérico del parámetro desconocido. Frente a ésta, hemos de formular una hipótesis alternativa , en la que recogemos los valores del parámetro que pasaremos a aceptar en caso de rechazar la hipótesis nula. Tomemos, de momento: $H_{1}$ : $p \\neq 0,05$ .\n",
    "\n",
    "Esta hipótesis alternativa es compuesta, pues incluye todo un rango de valores alternativos para el parámetro desconocido. A diferencia de la hipótesis nula, que es simple, la hipótesis alternativa no define una única distribución de probabilidad. La hipótesis nula sí lo hace, pues de ser cierta, la distribución de probabilidad de la variable indicatriz que para cada persona en la población toma el valor $1$ si consume la colonia, y $0$ si no lo hace, queda totalmente determinada como una distribución Bernouilli, $B(p)$ , con $p = 0,05$.\n",
    "\n",
    "De este modo, tenemos:\n",
    "\n",
    "**Error de tipo I :** Rechazar $H_{0}$ y, por tanto, aceptar $H_{1}$ , cuando $H_{0}$ es cierta **Error de tipo II** : No rechazar $H_{0}$ cuando $H_{1}$ es cierta, es decir, cuando $H_{0}$ es falsa.\n",
    "\n",
    "El nivel de significación o tamaño de un contraste de hipótesis, que denotaremos por $\\alpha$ , es la probabilidad de cometer un error de tipo I, es decir, la probabilidad de rechazar la hipótesis nula cuando es cierta. La potencia de un contraste es la probabilidad de rechazar la hipótesis nula cuando es falsa, lo cual es algo que querríamos hacer. Por tanto, a diferencia del nivel de significación del contraste, que preferiremos que sea reducido, querremos que la potencia del contraste sea elevada. Si denotamos por $\\beta$ la probabilidad de cometer un error de tipo II, entonces la potencia es igual a $1-\\beta$, ya que: \n",
    "\n",
    " $P[$no rechazar$ H_{0} /H_{0} $es falsa$]+P[$rechazar$ H_{0} /H_{0} $ es falsa$]=1$\n",
    "\n",
    "y el primer sumando es igual a $\\beta$.\n",
    "\n",
    "Tal como hemos expuesto este ejemplo, se llevaría a cabo un contraste llamado de dos colas, en el que rechazaremos la hipótesis nula si encontramos mucha evidencia en su contra, lo que ocurrirá si la proporción muestral difiere apreciablemente de $p = 0,05$. Sin embargo, no puede aceptarse a priori que la campaña publicitaria haya tenido un efecto perjudicial sobre el consumo, es decir, que la proporción de clientes sea inferior tras la campaña publicitaria, por lo que la hipótesis alternativa debería ser: $H_{1}$: $p > 0,05$. En tal caso, detectaremos evidencia en contra de $H_{0}$, si obtenemos una proporción muestral relativamente alta, pero no si es baja."
   ]
  }
 ],
 "metadata": {
  "kernelspec": {
   "display_name": "Python 3",
   "language": "python",
   "name": "python3"
  },
  "language_info": {
   "codemirror_mode": {
    "name": "ipython",
    "version": 3
   },
   "file_extension": ".py",
   "mimetype": "text/x-python",
   "name": "python",
   "nbconvert_exporter": "python",
   "pygments_lexer": "ipython3",
   "version": "3.7.6"
  }
 },
 "nbformat": 4,
 "nbformat_minor": 2
}
